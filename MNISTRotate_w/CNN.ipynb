{
  "cells": [
    {
      "cell_type": "markdown",
      "metadata": {
        "id": "view-in-github",
        "colab_type": "text"
      },
      "source": [
        "<a href=\"https://colab.research.google.com/github/EJH22/MSc-TranslationalNeuroscience-Module3/blob/main/MNISTRotate_w/CNN.ipynb\" target=\"_parent\"><img src=\"https://colab.research.google.com/assets/colab-badge.svg\" alt=\"Open In Colab\"/></a>"
      ]
    },
    {
      "cell_type": "code",
      "execution_count": 1,
      "metadata": {
        "id": "0zGUHgPEwma3"
      },
      "outputs": [],
      "source": [
        "import torch\n",
        "import torch.nn as nn\n",
        "import torch.nn.functional as F\n",
        "import torchvision\n",
        "import torchvision.transforms as transforms\n",
        "import torch.utils.data as torchdata\n",
        "import numpy as np\n",
        "\n",
        "import matplotlib.pyplot as plt\n",
        "\n",
        "import typing\n",
        "import tqdm"
      ]
    },
    {
      "cell_type": "code",
      "execution_count": 2,
      "metadata": {
        "id": "gk6wVY3gwma5"
      },
      "outputs": [],
      "source": [
        "device = torch.device('cuda:0' if torch.cuda.is_available() else 'cpu')"
      ]
    },
    {
      "cell_type": "code",
      "execution_count": 3,
      "metadata": {
        "colab": {
          "base_uri": "https://localhost:8080/"
        },
        "id": "uvo8ab_Cwma5",
        "outputId": "9fab3d51-d1da-42cb-b346-8aada6108d72"
      },
      "outputs": [
        {
          "output_type": "stream",
          "name": "stdout",
          "text": [
            "Downloading http://yann.lecun.com/exdb/mnist/train-images-idx3-ubyte.gz\n",
            "Downloading http://yann.lecun.com/exdb/mnist/train-images-idx3-ubyte.gz to ./data/MNIST/raw/train-images-idx3-ubyte.gz\n"
          ]
        },
        {
          "output_type": "stream",
          "name": "stderr",
          "text": [
            "100%|██████████| 9912422/9912422 [00:00<00:00, 413935794.95it/s]"
          ]
        },
        {
          "output_type": "stream",
          "name": "stdout",
          "text": [
            "Extracting ./data/MNIST/raw/train-images-idx3-ubyte.gz to ./data/MNIST/raw\n"
          ]
        },
        {
          "output_type": "stream",
          "name": "stderr",
          "text": [
            "\n"
          ]
        },
        {
          "output_type": "stream",
          "name": "stdout",
          "text": [
            "\n",
            "Downloading http://yann.lecun.com/exdb/mnist/train-labels-idx1-ubyte.gz\n",
            "Downloading http://yann.lecun.com/exdb/mnist/train-labels-idx1-ubyte.gz to ./data/MNIST/raw/train-labels-idx1-ubyte.gz\n"
          ]
        },
        {
          "output_type": "stream",
          "name": "stderr",
          "text": [
            "100%|██████████| 28881/28881 [00:00<00:00, 24909663.55it/s]\n"
          ]
        },
        {
          "output_type": "stream",
          "name": "stdout",
          "text": [
            "Extracting ./data/MNIST/raw/train-labels-idx1-ubyte.gz to ./data/MNIST/raw\n",
            "\n",
            "Downloading http://yann.lecun.com/exdb/mnist/t10k-images-idx3-ubyte.gz\n",
            "Downloading http://yann.lecun.com/exdb/mnist/t10k-images-idx3-ubyte.gz to ./data/MNIST/raw/t10k-images-idx3-ubyte.gz\n"
          ]
        },
        {
          "output_type": "stream",
          "name": "stderr",
          "text": [
            "100%|██████████| 1648877/1648877 [00:00<00:00, 131445839.45it/s]"
          ]
        },
        {
          "output_type": "stream",
          "name": "stdout",
          "text": [
            "Extracting ./data/MNIST/raw/t10k-images-idx3-ubyte.gz to ./data/MNIST/raw\n",
            "\n",
            "Downloading http://yann.lecun.com/exdb/mnist/t10k-labels-idx1-ubyte.gz\n",
            "Downloading http://yann.lecun.com/exdb/mnist/t10k-labels-idx1-ubyte.gz to ./data/MNIST/raw/t10k-labels-idx1-ubyte.gz\n"
          ]
        },
        {
          "output_type": "stream",
          "name": "stderr",
          "text": [
            "\n",
            "100%|██████████| 4542/4542 [00:00<00:00, 19990061.67it/s]\n"
          ]
        },
        {
          "output_type": "stream",
          "name": "stdout",
          "text": [
            "Extracting ./data/MNIST/raw/t10k-labels-idx1-ubyte.gz to ./data/MNIST/raw\n",
            "\n"
          ]
        }
      ],
      "source": [
        "train_ds_MNIST = torchvision.datasets.MNIST(\n",
        "    root='./data',\n",
        "    train=True, \n",
        "    transform=transforms.Compose(\n",
        "        [\n",
        "            torchvision.transforms.ToTensor(), # turns PIL to tensor\n",
        "            #torchvision.transforms.Normalize((0.5), (0.5)), # normalises the tensor\n",
        "            #lambda x: x.view(-1),\n",
        "        ]\n",
        "    ),\n",
        "    download=True\n",
        ")"
      ]
    },
    {
      "cell_type": "code",
      "execution_count": 5,
      "metadata": {
        "id": "28C-8ZJdwma6"
      },
      "outputs": [],
      "source": [
        "class MNISTRotate(torchdata.Dataset):\n",
        "    def __init__(self, dataset, rotation):\n",
        "        self.dataset = dataset\n",
        "        self.rotation = rotation\n",
        "    \n",
        "    def __getitem__(self, idx):\n",
        "        img, target = self.dataset[idx]\n",
        "        return transforms.functional.rotate(img, angle=self.rotation), target\n",
        "    \n",
        "    def __len__(self):\n",
        "        return len(self.dataset)"
      ]
    },
    {
      "cell_type": "code",
      "execution_count": 6,
      "metadata": {
        "id": "XWXYYR2ewma7"
      },
      "outputs": [],
      "source": [
        "class MNISTTaskRotate(torchdata.Dataset):\n",
        "    def __init__(self, dataset:torchdata.Dataset, rotations:typing.List[float]):\n",
        "        self.dataset = dataset\n",
        "        self.rotations = rotations\n",
        "\n",
        "        self.task_datasets = []\n",
        "        self.task_indices = []\n",
        "\n",
        "        for rotation in rotations:\n",
        "            self.task_datasets.append(MNISTRotate(dataset, rotation))\n",
        "            self.task_indices.append(len(self.task_datasets[-1]))#This makes sure it iterates through the dataset and stopping one before the end\n",
        "\n",
        "        self.task_indices = np.cumsum(self.task_indices)\n",
        "\n",
        "    def __getitem__(self, idx):\n",
        "        # get current task\n",
        "        task_idx = (idx >= self.task_indices).sum()\n",
        "        # get task dataset\n",
        "        task_dataset = self.task_datasets[task_idx]\n",
        "        # get index on that task dataset\n",
        "        task_dataset_idx = idx - self.task_indices[task_idx]\n",
        "        # return data\n",
        "        img, target = task_dataset[task_dataset_idx]\n",
        "        return img, target, task_idx\n",
        "\n",
        "    def __len__(self):\n",
        "        return np.sum([len(ds) for ds in self.task_datasets])\n"
      ]
    },
    {
      "cell_type": "code",
      "execution_count": 7,
      "metadata": {
        "id": "8jANylrDwma7"
      },
      "outputs": [],
      "source": [
        "class MNISTTaskRotate(torchdata.Dataset):\n",
        "    def __init__(self, dataset:torchdata.Dataset, rotations:typing.List[float]):\n",
        "        self.dataset = dataset\n",
        "        self.rotations = rotations\n",
        "\n",
        "        self.task_datasets = []\n",
        "        self.task_indices = []\n",
        "\n",
        "        for rotation in rotations:\n",
        "            self.task_datasets.append(MNISTRotate(dataset, rotation))\n",
        "            self.task_indices.append(len(self.task_datasets[-1]))#This makes sure it itereates through the dataset and stopping one before the end\n",
        "\n",
        "        self.task_indices = np.cumsum(self.task_indices)\n",
        "\n",
        "        #self.task_datasets = [\n",
        "        #    MNISTRotate(dataset, rotation) for rotation in rotations\n",
        "        #]\n",
        "\n",
        "    def __getitem__(self, idx):\n",
        "        # get current task\n",
        "        task_idx = (idx >= self.task_indices).sum()\n",
        "        # get task dataset\n",
        "        task_dataset = self.task_datasets[task_idx]\n",
        "        # get index on that task dataset\n",
        "        task_dataset_idx = idx - self.task_indices[task_idx]\n",
        "        # return data\n",
        "        return [t for t in task_dataset[task_dataset_idx]] + [task_idx]\n",
        "\n",
        "    def __len__(self):\n",
        "        return np.sum([len(ds) for ds in self.task_datasets])\n"
      ]
    },
    {
      "cell_type": "code",
      "execution_count": 8,
      "metadata": {
        "id": "uNgFZjhhwma8"
      },
      "outputs": [],
      "source": [
        "rotation_list = np.arange(0, 390, 30).astype(float) #This goes from 0 to 360 in steps of 30"
      ]
    },
    {
      "cell_type": "code",
      "execution_count": 9,
      "metadata": {
        "id": "nM1ibqH9wma8"
      },
      "outputs": [],
      "source": [
        "train_rotate_ds = MNISTTaskRotate(train_ds_MNIST, rotation_list) # using custom dataset containing many rotated datasets\n",
        "train_rotate_dl = torchdata.DataLoader(train_rotate_ds, batch_size=64, shuffle=False)"
      ]
    },
    {
      "cell_type": "code",
      "execution_count": 10,
      "metadata": {
        "id": "hcPcUgcJwma8"
      },
      "outputs": [],
      "source": [
        "class MNISTRotate(torchdata.Dataset):\n",
        "    def __init__(self, dataset, rotation, unreliable_source):\n",
        "        self.dataset = dataset\n",
        "        self.rotation = rotation\n",
        "        self.unreliable_source = unreliable_source\n",
        "        self.source_list = np.random.choice(10, size=(len(dataset)))\n",
        "\n",
        "    def __getitem__(self, idx):\n",
        "        img, target = self.dataset[idx]\n",
        "        source = self.source_list[idx]\n",
        "        if source in self.unreliable_source:\n",
        "        #    img = transforms.functional.rotate(img, angle=self.rotation) + torch.randn_like(img) * 0.1 # add noise\n",
        "            img =  torch.randn_like(img) * 0.1 # replace with noise\n",
        "        else:\n",
        "            img = transforms.functional.rotate(img, angle=self.rotation)\n",
        "        return img.view(-1), source, target\n",
        "    \n",
        "    def __len__(self):\n",
        "        return len(self.dataset)"
      ]
    },
    {
      "cell_type": "code",
      "execution_count": 11,
      "metadata": {
        "id": "QsrVxEfMwma8"
      },
      "outputs": [],
      "source": [
        "# list of dataloaders containing many rotated datasets\n",
        "train_dls = [\n",
        "    torchdata.DataLoader(\n",
        "        MNISTRotate(\n",
        "            train_ds_MNIST, \n",
        "            rotation=rotation,\n",
        "            unreliable_source=[0,1,2,3]\n",
        "        ),\n",
        "        batch_size=1024, \n",
        "        shuffle=False\n",
        "    ) for rotation in rotation_list\n",
        "]"
      ]
    },
    {
      "cell_type": "code",
      "execution_count": 12,
      "metadata": {
        "colab": {
          "base_uri": "https://localhost:8080/"
        },
        "id": "LZqKxSzAwma9",
        "outputId": "25cc922c-dd39-47b4-e5ef-a7279f3e8ce7"
      },
      "outputs": [
        {
          "output_type": "stream",
          "name": "stderr",
          "text": [
            "100%|██████████| 59/59 [00:20<00:00,  2.87it/s]\n"
          ]
        }
      ],
      "source": [
        "for train_dl in train_dls:\n",
        "    for batch in tqdm.tqdm(train_dl):\n",
        "        pass\n",
        "    break"
      ]
    },
    {
      "cell_type": "code",
      "execution_count": 13,
      "metadata": {
        "colab": {
          "base_uri": "https://localhost:8080/"
        },
        "id": "qvOibKzxwma9",
        "outputId": "47c02efd-7518-492e-b7b3-5dbd40ffd125"
      },
      "outputs": [
        {
          "output_type": "stream",
          "name": "stderr",
          "text": [
            "100%|██████████| 12188/12188 [06:07<00:00, 33.16it/s]\n"
          ]
        }
      ],
      "source": [
        "for batch in tqdm.tqdm(train_rotate_dl):\n",
        "    pass "
      ]
    },
    {
      "cell_type": "code",
      "execution_count": 14,
      "metadata": {
        "colab": {
          "base_uri": "https://localhost:8080/"
        },
        "id": "C0NVOKrywma9",
        "outputId": "9e7465a7-f343-49c7-a4a2-a996c51fdd35"
      },
      "outputs": [
        {
          "output_type": "execute_result",
          "data": {
            "text/plain": [
              "torch.Size([32, 1, 28, 28])"
            ]
          },
          "metadata": {},
          "execution_count": 14
        }
      ],
      "source": [
        "batch[0].shape"
      ]
    },
    {
      "cell_type": "code",
      "execution_count": 15,
      "metadata": {
        "colab": {
          "base_uri": "https://localhost:8080/",
          "height": 448
        },
        "id": "TpgCSPAjwma9",
        "outputId": "82599294-5112-4be5-b4c7-c22c615a3962"
      },
      "outputs": [
        {
          "output_type": "execute_result",
          "data": {
            "text/plain": [
              "<matplotlib.image.AxesImage at 0x7f149f4f0640>"
            ]
          },
          "metadata": {},
          "execution_count": 15
        },
        {
          "output_type": "display_data",
          "data": {
            "text/plain": [
              "<Figure size 640x480 with 1 Axes>"
            ],
            "image/png": "[encoded data removed]"
          },
          "metadata": {}
        }
      ],
      "source": [
        "plt.imshow(batch[0][7].numpy()[0,:,:], cmap='gray')"
      ]
    },
    {
      "cell_type": "code",
      "execution_count": 19,
      "metadata": {
        "id": "qM4E0XMlwma9"
      },
      "outputs": [],
      "source": [
        "import torch.nn as nn\n",
        "import torch.optim as optim\n",
        "\n",
        "class ConvNet(nn.Module):\n",
        "    def __init__(self):\n",
        "        super(ConvNet, self).__init__()\n",
        "        self.layer1 = nn.Sequential(\n",
        "            nn.Conv2d(1, 16, kernel_size=3, padding=1),\n",
        "            nn.ReLU(),\n",
        "            nn.MaxPool2d(kernel_size=2, stride=2))\n",
        "        self.layer2 = nn.Sequential(\n",
        "            nn.Conv2d(16, 32, kernel_size=3, padding=1),\n",
        "            nn.ReLU(),\n",
        "            nn.MaxPool2d(kernel_size=2, stride=2))\n",
        "        self.fc1 = nn.Linear(7 * 7 * 32, 128)\n",
        "        self.fc2 = nn.Linear(128, 10)  # Assuming a 10-class classification problem\n",
        "\n",
        "    def forward(self, x):\n",
        "        out = self.layer1(x)\n",
        "        out = self.layer2(out)\n",
        "        out = out.reshape(out.size(0), -1)\n",
        "        out = self.fc1(out)\n",
        "        out = self.fc2(out)\n",
        "        return out\n",
        "\n",
        "model = ConvNet()\n",
        "\n",
        "# Define the loss function and optimizer\n",
        "criterion = nn.CrossEntropyLoss()\n",
        "optimizer = optim.Adam(model.parameters(), lr=0.001)\n",
        "\n",
        "# Example input: Batch of size [32, 1, 28, 28]\n",
        "inputs = batch[0].to(device)\n",
        "model = model.to(device)\n",
        "\n",
        "# Forward pass\n",
        "outputs = model(inputs)\n",
        "    "
      ]
    },
    {
      "cell_type": "code",
      "execution_count": null,
      "metadata": {
        "colab": {
          "base_uri": "https://localhost:8080/"
        },
        "id": "0U47EzMPwma-",
        "outputId": "f69586cc-bca6-468a-948f-77f0777fd947"
      },
      "outputs": [
        {
          "output_type": "stream",
          "name": "stderr",
          "text": [
            " 41%|████      | 4962/12188 [02:43<04:40, 25.75it/s]"
          ]
        }
      ],
      "source": [
        "from tqdm import tqdm\n",
        "\n",
        "num_epochs = 10\n",
        "#model = model.to(device)\n",
        "\n",
        "for epoch in range(num_epochs):\n",
        "    running_loss = 0.0\n",
        "    correct = 0\n",
        "    total = 0\n",
        "    \n",
        "    for i, data in enumerate(tqdm(train_rotate_dl, total=len(train_rotate_dl))):\n",
        "        inputs, labels, task_idx = data\n",
        "        inputs, labels = inputs.to(device), labels.to(device)\n",
        "        \n",
        "        optimizer.zero_grad()\n",
        "\n",
        "        outputs = model(inputs)\n",
        "        loss = criterion(outputs, labels)\n",
        "        loss.backward()\n",
        "        optimizer.step()\n",
        "\n",
        "        running_loss += loss.item()\n",
        "        \n",
        "        # Calculate accuracy\n",
        "        _, predicted = torch.max(outputs.data, 1)\n",
        "        total += labels.size(0)\n",
        "        correct += (predicted == labels).sum().item()\n",
        "    \n",
        "    epoch_loss = running_loss / len(train_rotate_dl)\n",
        "    epoch_accuracy = 100 * correct / total\n",
        "    print(f'Epoch: {epoch+1}, Loss: {epoch_loss:.4f}, Accuracy: {epoch_accuracy:.2f}%')\n",
        "\n"
      ]
    }
  ],
  "metadata": {
    "kernelspec": {
      "display_name": "Python 3.9.6 64-bit",
      "language": "python",
      "name": "python3"
    },
    "language_info": {
      "codemirror_mode": {
        "name": "ipython",
        "version": 3
      },
      "file_extension": ".py",
      "mimetype": "text/x-python",
      "name": "python",
      "nbconvert_exporter": "python",
      "pygments_lexer": "ipython3",
      "version": "3.9.6"
    },
    "orig_nbformat": 4,
    "vscode": {
      "interpreter": {
        "hash": "31f2aee4e71d21fbe5cf8b01ff0e069b9275f58929596ceb00d14d90e3e16cd6"
      }
    },
    "colab": {
      "provenance": [],
      "gpuType": "T4",
      "include_colab_link": true
    },
    "accelerator": "GPU",
    "gpuClass": "standard"
  },
  "nbformat": 4,
  "nbformat_minor": 0
}